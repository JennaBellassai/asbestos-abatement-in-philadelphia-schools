{
 "cells": [
  {
   "cell_type": "code",
   "execution_count": 1,
   "metadata": {
    "id": "BPzbdtTYq4Zx"
   },
   "outputs": [],
   "source": [
    "import pandas as pd \n",
    "df = pd.read_csv('data/school-district-asbestos-download-12-29.csv')"
   ]
  },
  {
   "cell_type": "markdown",
   "metadata": {
    "id": "Sfl0kNGkuQkM"
   },
   "source": [
    "Here's some helpful explanations of abreviations from the Office of the City Controller's dashboard About page:\n",
    "\n",
    "## Asbestos Types\n",
    "\n",
    "**ACM**: Asbestos-Containing Material\n",
    "\n",
    "**ACBM**: Asbestos-Containing Building Material\n",
    "\n",
    "**ACPI**: Asbestos-Containing Pipe Insulation\n",
    "\n",
    "**VAT**: Vinyl Asbestos Tiling\n",
    "\n",
    "**FRI**: Friable Asbestos\n",
    "\n",
    "## Units\n",
    "\n",
    "**LF**: Linear Feet\n",
    "\n",
    "**SF**: Square Feet\n",
    "\n",
    "**CF**: Cubic Feet\n",
    "\n",
    "## Abatement Methods\n",
    "\n",
    "**REM**: Removal\n",
    "\n",
    "**CAP**: Encapsulation\n",
    "\n",
    "**CLO**: Enclosure\n",
    "\n",
    "https://controller.phila.gov/philadelphia-audits/interactive-asbestos-dashboard/#/about"
   ]
  },
  {
   "cell_type": "code",
   "execution_count": 2,
   "metadata": {
    "colab": {
     "base_uri": "https://localhost:8080/"
    },
    "id": "6X4Lio5IrLPQ",
    "outputId": "4d4e94e3-313b-463f-ba61-2c24729035d2"
   },
   "outputs": [
    {
     "data": {
      "text/plain": [
       "Application Date           1827\n",
       "Planned Completion Date    1827\n",
       "Facility Name              1827\n",
       "Facility Owner                0\n",
       "Operation Type             1827\n",
       "Permit Number              1827\n",
       "Project Type               1827\n",
       "School Address                0\n",
       "School Level               1827\n",
       "School Name                1827\n",
       "School Website                0\n",
       "Status                     1826\n",
       "URL                        1827\n",
       "Description                1826\n",
       "Planned Start Date         1827\n",
       "dtype: int64"
      ]
     },
     "execution_count": 2,
     "metadata": {},
     "output_type": "execute_result"
    }
   ],
   "source": [
    "df.count()"
   ]
  },
  {
   "cell_type": "code",
   "execution_count": 3,
   "metadata": {
    "id": "ZDxTWYm7tmjD"
   },
   "outputs": [],
   "source": [
    "import re\n",
    "def get_total_quantity_per_project(description, unit='LF'):\n",
    "  \"\"\"Get total quantity of asbestos-containing material to be removed, encapsulated, or enclosed in a given project using naïve regex.\"\"\"\n",
    "\n",
    "  description = str(description)\n",
    "  matches = re.findall(f'[0-9]+\\s{unit}', description)\n",
    "  counts = []\n",
    "  for match in matches:\n",
    "    counts.append(int(re.match('[0-9]+', match).group(0)))\n",
    "  return sum(counts)"
   ]
  },
  {
   "cell_type": "markdown",
   "metadata": {
    "id": "o_jpTLjr0F-g"
   },
   "source": [
    "Add columns with total quantities of material per project."
   ]
  },
  {
   "cell_type": "code",
   "execution_count": 4,
   "metadata": {
    "id": "MGq5TTmBwlab"
   },
   "outputs": [],
   "source": [
    "# Linear feet\n",
    "df['Total LF'] = df['Description'].apply(get_total_quantity_per_project, args=('LF',))"
   ]
  },
  {
   "cell_type": "code",
   "execution_count": 5,
   "metadata": {
    "id": "JE2xpg2r0PLK"
   },
   "outputs": [],
   "source": [
    "# Square feet\n",
    "df['Total SF'] = df['Description'].apply(get_total_quantity_per_project, args=('SF',))"
   ]
  },
  {
   "cell_type": "code",
   "execution_count": 6,
   "metadata": {
    "id": "gA5svP5z0coI"
   },
   "outputs": [],
   "source": [
    "# Cubic feet\n",
    "df['Total CF'] = df['Description'].apply(get_total_quantity_per_project, args=('CF',))"
   ]
  },
  {
   "cell_type": "markdown",
   "metadata": {
    "id": "mZZxZnEq3CP_"
   },
   "source": [
    "Get total quantities across district."
   ]
  },
  {
   "cell_type": "code",
   "execution_count": 7,
   "metadata": {
    "colab": {
     "base_uri": "https://localhost:8080/"
    },
    "id": "yCsp8fhW3Eb2",
    "outputId": "0495ccaf-ccfa-4f25-d820-7475b4ad342d"
   },
   "outputs": [
    {
     "data": {
      "text/plain": [
       "29572"
      ]
     },
     "execution_count": 7,
     "metadata": {},
     "output_type": "execute_result"
    }
   ],
   "source": [
    "df['Total LF'].sum()"
   ]
  },
  {
   "cell_type": "code",
   "execution_count": 8,
   "metadata": {
    "colab": {
     "base_uri": "https://localhost:8080/"
    },
    "id": "ODUfdWED3IZ8",
    "outputId": "b205406b-1737-4ad0-816c-5e8406dd6348"
   },
   "outputs": [
    {
     "data": {
      "text/plain": [
       "299806"
      ]
     },
     "execution_count": 8,
     "metadata": {},
     "output_type": "execute_result"
    }
   ],
   "source": [
    "df['Total SF'].sum()"
   ]
  },
  {
   "cell_type": "markdown",
   "metadata": {
    "id": "hprsZg6S3cHj"
   },
   "source": [
    "Divide square feet by 43560 to get acres."
   ]
  },
  {
   "cell_type": "code",
   "execution_count": 9,
   "metadata": {
    "colab": {
     "base_uri": "https://localhost:8080/"
    },
    "id": "Qufwt5su3d7L",
    "outputId": "2ebb1861-3ab5-40b8-9b91-3cfa1189717e"
   },
   "outputs": [
    {
     "data": {
      "text/plain": [
       "6.882598714416896"
      ]
     },
     "execution_count": 9,
     "metadata": {},
     "output_type": "execute_result"
    }
   ],
   "source": [
    "df['Total SF'].sum() / 43560"
   ]
  },
  {
   "cell_type": "code",
   "execution_count": 10,
   "metadata": {
    "colab": {
     "base_uri": "https://localhost:8080/"
    },
    "id": "Q3koF4er3Kta",
    "outputId": "0e430e30-3ba0-42df-99b1-927b3f8662c3"
   },
   "outputs": [
    {
     "data": {
      "text/plain": [
       "0"
      ]
     },
     "execution_count": 10,
     "metadata": {},
     "output_type": "execute_result"
    }
   ],
   "source": [
    "df['Total CF'].sum()"
   ]
  },
  {
   "cell_type": "markdown",
   "metadata": {
    "id": "de9U023e2OyI"
   },
   "source": [
    "Get total quantities per school."
   ]
  },
  {
   "cell_type": "code",
   "execution_count": 11,
   "metadata": {
    "id": "k0Dc6Jw41r1q"
   },
   "outputs": [],
   "source": [
    "lf_material_by_school = df.groupby('School Name')['Total LF'].sum()"
   ]
  },
  {
   "cell_type": "code",
   "execution_count": 12,
   "metadata": {
    "id": "z8iOSV5L2X89"
   },
   "outputs": [],
   "source": [
    "sf_material_by_school = df.groupby('School Name')['Total SF'].sum()"
   ]
  },
  {
   "cell_type": "code",
   "execution_count": 13,
   "metadata": {
    "id": "BgpqLEWl2vMw"
   },
   "outputs": [],
   "source": [
    "cf_material_by_school = df.groupby('School Name')['Total CF'].sum()"
   ]
  },
  {
   "cell_type": "code",
   "execution_count": 14,
   "metadata": {
    "colab": {
     "base_uri": "https://localhost:8080/"
    },
    "id": "GSLaHa6L2zb0",
    "outputId": "4a30477a-0a11-4653-9bfb-3529731f2a3d"
   },
   "outputs": [
    {
     "data": {
      "text/plain": [
       "School Name\n",
       "A. Philip Randolph Career and Technical High School     250\n",
       "A.L. Fitzpatrick School                                 725\n",
       "Abraham Lincoln High School                               0\n",
       "Abram S. Jenks School                                    57\n",
       "Academy at Palumbo                                     1564\n",
       "                                                       ... \n",
       "William McKinley School                                   0\n",
       "William Rowen School                                    528\n",
       "William T. Tilden School                                  0\n",
       "William W. Bodine High School                          1751\n",
       "Woodrow Wilson School                                   191\n",
       "Name: Total SF, Length: 214, dtype: int64"
      ]
     },
     "execution_count": 14,
     "metadata": {},
     "output_type": "execute_result"
    }
   ],
   "source": [
    "sf_material_by_school"
   ]
  },
  {
   "cell_type": "markdown",
   "metadata": {
    "id": "55fpQaqE3vX4"
   },
   "source": [
    "Get projects per school."
   ]
  },
  {
   "cell_type": "code",
   "execution_count": 15,
   "metadata": {
    "id": "-9uoR02D20uE"
   },
   "outputs": [],
   "source": [
    "projects_by_school = df.groupby('School Name').size()"
   ]
  },
  {
   "cell_type": "code",
   "execution_count": 16,
   "metadata": {
    "colab": {
     "base_uri": "https://localhost:8080/"
    },
    "id": "7lzY-iJ_433M",
    "outputId": "c1f26595-4da0-42e6-a27b-443b996ab786"
   },
   "outputs": [
    {
     "data": {
      "text/plain": [
       "School Name\n",
       "A. Philip Randolph Career and Technical High School     1\n",
       "A.L. Fitzpatrick School                                12\n",
       "Abraham Lincoln High School                             6\n",
       "Abram S. Jenks School                                  11\n",
       "Academy at Palumbo                                     11\n",
       "                                                       ..\n",
       "William McKinley School                                 3\n",
       "William Rowen School                                   13\n",
       "William T. Tilden School                                5\n",
       "William W. Bodine High School                          15\n",
       "Woodrow Wilson School                                  11\n",
       "Length: 214, dtype: int64"
      ]
     },
     "execution_count": 16,
     "metadata": {},
     "output_type": "execute_result"
    }
   ],
   "source": [
    "projects_by_school"
   ]
  },
  {
   "cell_type": "code",
   "execution_count": 17,
   "metadata": {
    "colab": {
     "base_uri": "https://localhost:8080/",
     "height": 450
    },
    "id": "c-0KjffK3yoK",
    "outputId": "bb3553a6-8761-4c3a-92a7-11dfb50f028a"
   },
   "outputs": [
    {
     "data": {
      "text/html": [
       "<div>\n",
       "<style scoped>\n",
       "    .dataframe tbody tr th:only-of-type {\n",
       "        vertical-align: middle;\n",
       "    }\n",
       "\n",
       "    .dataframe tbody tr th {\n",
       "        vertical-align: top;\n",
       "    }\n",
       "\n",
       "    .dataframe thead th {\n",
       "        text-align: right;\n",
       "    }\n",
       "</style>\n",
       "<table border=\"1\" class=\"dataframe\">\n",
       "  <thead>\n",
       "    <tr style=\"text-align: right;\">\n",
       "      <th></th>\n",
       "      <th>0</th>\n",
       "      <th>Total LF</th>\n",
       "      <th>Total SF</th>\n",
       "    </tr>\n",
       "    <tr>\n",
       "      <th>School Name</th>\n",
       "      <th></th>\n",
       "      <th></th>\n",
       "      <th></th>\n",
       "    </tr>\n",
       "  </thead>\n",
       "  <tbody>\n",
       "    <tr>\n",
       "      <th>A. Philip Randolph Career and Technical High School</th>\n",
       "      <td>1</td>\n",
       "      <td>0</td>\n",
       "      <td>250</td>\n",
       "    </tr>\n",
       "    <tr>\n",
       "      <th>A.L. Fitzpatrick School</th>\n",
       "      <td>12</td>\n",
       "      <td>121</td>\n",
       "      <td>725</td>\n",
       "    </tr>\n",
       "    <tr>\n",
       "      <th>Abraham Lincoln High School</th>\n",
       "      <td>6</td>\n",
       "      <td>41</td>\n",
       "      <td>0</td>\n",
       "    </tr>\n",
       "    <tr>\n",
       "      <th>Abram S. Jenks School</th>\n",
       "      <td>11</td>\n",
       "      <td>159</td>\n",
       "      <td>57</td>\n",
       "    </tr>\n",
       "    <tr>\n",
       "      <th>Academy at Palumbo</th>\n",
       "      <td>11</td>\n",
       "      <td>124</td>\n",
       "      <td>1564</td>\n",
       "    </tr>\n",
       "    <tr>\n",
       "      <th>...</th>\n",
       "      <td>...</td>\n",
       "      <td>...</td>\n",
       "      <td>...</td>\n",
       "    </tr>\n",
       "    <tr>\n",
       "      <th>William McKinley School</th>\n",
       "      <td>3</td>\n",
       "      <td>0</td>\n",
       "      <td>0</td>\n",
       "    </tr>\n",
       "    <tr>\n",
       "      <th>William Rowen School</th>\n",
       "      <td>13</td>\n",
       "      <td>861</td>\n",
       "      <td>528</td>\n",
       "    </tr>\n",
       "    <tr>\n",
       "      <th>William T. Tilden School</th>\n",
       "      <td>5</td>\n",
       "      <td>312</td>\n",
       "      <td>0</td>\n",
       "    </tr>\n",
       "    <tr>\n",
       "      <th>William W. Bodine High School</th>\n",
       "      <td>15</td>\n",
       "      <td>96</td>\n",
       "      <td>1751</td>\n",
       "    </tr>\n",
       "    <tr>\n",
       "      <th>Woodrow Wilson School</th>\n",
       "      <td>11</td>\n",
       "      <td>60</td>\n",
       "      <td>191</td>\n",
       "    </tr>\n",
       "  </tbody>\n",
       "</table>\n",
       "<p>214 rows × 3 columns</p>\n",
       "</div>"
      ],
      "text/plain": [
       "                                                     0  Total LF  Total SF\n",
       "School Name                                                               \n",
       "A. Philip Randolph Career and Technical High Sc...   1         0       250\n",
       "A.L. Fitzpatrick School                             12       121       725\n",
       "Abraham Lincoln High School                          6        41         0\n",
       "Abram S. Jenks School                               11       159        57\n",
       "Academy at Palumbo                                  11       124      1564\n",
       "...                                                 ..       ...       ...\n",
       "William McKinley School                              3         0         0\n",
       "William Rowen School                                13       861       528\n",
       "William T. Tilden School                             5       312         0\n",
       "William W. Bodine High School                       15        96      1751\n",
       "Woodrow Wilson School                               11        60       191\n",
       "\n",
       "[214 rows x 3 columns]"
      ]
     },
     "execution_count": 17,
     "metadata": {},
     "output_type": "execute_result"
    }
   ],
   "source": [
    "pd.concat([projects_by_school, lf_material_by_school, sf_material_by_school], axis=1)"
   ]
  },
  {
   "cell_type": "markdown",
   "metadata": {
    "id": "acGeVb3w5O-r"
   },
   "source": [
    "Look at distributions of project severity.\n",
    "\n",
    "From dashboard About page:     \n",
    "## Projects\n",
    "\n",
    "Sorted from smallest to largest by amount of asbestos material.\n",
    "\n",
    "**Incidental Project**: Abatement of less than 1 linear or 5 square feet.\n",
    "\n",
    "**Small Project**: Abatement greater than or equal to 1 linear or 5 square feet but less than 3 linear or 12 square feet.\n",
    "\n",
    "**Minor Project**: Abatement greater than or equal to 3 linear or 12 square feet but less than 40 linear or 80 square feet.\n",
    "\n",
    "**Major Project, Permitted**: Abatement greater than or equal to 40 linear or 80 square feet. A Major Project must have a permit approved and issued by the Department of Public Health.\n",
    "\n",
    "**Major Project, Non-Permitted**: Any demolition project except single residences with three dwelling units or less where there is no asbestos present.\n",
    "\n",
    "**NESHAP Project**: Abatement greater than or equal to 260 linear or 160 square feet."
   ]
  },
  {
   "cell_type": "code",
   "execution_count": 18,
   "metadata": {
    "colab": {
     "base_uri": "https://localhost:8080/"
    },
    "id": "FJaC1yWd4Mg6",
    "outputId": "577d58ce-0608-4a4b-f213-0adf0d81707c"
   },
   "outputs": [
    {
     "data": {
      "text/plain": [
       "array(['Small Removal Project', 'Minor Removal Project',\n",
       "       'Major Removal Project', 'Incidental Removal Project',\n",
       "       'Non Friable Removal'], dtype=object)"
      ]
     },
     "execution_count": 18,
     "metadata": {},
     "output_type": "execute_result"
    }
   ],
   "source": [
    "df['Project Type'].unique()"
   ]
  },
  {
   "cell_type": "markdown",
   "metadata": {
    "id": "h6-a7ZPJ5uE3"
   },
   "source": [
    "I don't see any projects in the category of \"Major Project, Non-Permitted.\" I'm therefore going to assume that every project in this dataset is for asbestos abatement."
   ]
  },
  {
   "cell_type": "code",
   "execution_count": 19,
   "metadata": {
    "colab": {
     "base_uri": "https://localhost:8080/"
    },
    "id": "wSwrvfqj5Vwc",
    "outputId": "1d4d297a-b382-47cb-8f61-838c3dd93f1e"
   },
   "outputs": [
    {
     "data": {
      "text/plain": [
       "Project Type\n",
       "Incidental Removal Project    284\n",
       "Major Removal Project         410\n",
       "Minor Removal Project         867\n",
       "Non Friable Removal           160\n",
       "Small Removal Project         106\n",
       "dtype: int64"
      ]
     },
     "execution_count": 19,
     "metadata": {},
     "output_type": "execute_result"
    }
   ],
   "source": [
    "df.groupby('Project Type').size()"
   ]
  },
  {
   "cell_type": "code",
   "execution_count": 20,
   "metadata": {
    "colab": {
     "base_uri": "https://localhost:8080/"
    },
    "id": "uUI5L6SZ97NG",
    "outputId": "357db2d4-2723-4bab-e72e-3cb4e00e204d"
   },
   "outputs": [
    {
     "data": {
      "text/plain": [
       "School Name                                          Project Type              \n",
       "A. Philip Randolph Career and Technical High School  Non Friable Removal           1\n",
       "A.L. Fitzpatrick School                              Incidental Removal Project    4\n",
       "                                                     Major Removal Project         1\n",
       "                                                     Minor Removal Project         4\n",
       "                                                     Non Friable Removal           3\n",
       "                                                                                  ..\n",
       "William W. Bodine High School                        Small Removal Project         1\n",
       "Woodrow Wilson School                                Incidental Removal Project    2\n",
       "                                                     Major Removal Project         1\n",
       "                                                     Minor Removal Project         7\n",
       "                                                     Non Friable Removal           1\n",
       "Length: 663, dtype: int64"
      ]
     },
     "execution_count": 20,
     "metadata": {},
     "output_type": "execute_result"
    }
   ],
   "source": [
    "df.groupby(['School Name', 'Project Type']).size()"
   ]
  },
  {
   "cell_type": "markdown",
   "metadata": {
    "id": "3Dq7LQyx6vW9"
   },
   "source": [
    "The description above says a \"minor\" removal project should be less than 40 linear or 80 square feet. It's odd that I see an average of 102 square feet for minor projects. Maybe there's an issue with the way I determined total square feet per project. "
   ]
  },
  {
   "cell_type": "code",
   "execution_count": 21,
   "metadata": {
    "colab": {
     "base_uri": "https://localhost:8080/"
    },
    "id": "ex_y8PCn59SR",
    "outputId": "0d0581a8-437e-4fc4-8e02-e2ae04ca9145"
   },
   "outputs": [
    {
     "data": {
      "text/plain": [
       "count      867.000000\n",
       "mean       100.648212\n",
       "std        590.462030\n",
       "min          0.000000\n",
       "25%          0.000000\n",
       "50%          0.000000\n",
       "75%         10.000000\n",
       "max      12345.000000\n",
       "Name: Total SF, dtype: float64"
      ]
     },
     "execution_count": 21,
     "metadata": {},
     "output_type": "execute_result"
    }
   ],
   "source": [
    "df[df['Project Type']=='Minor Removal Project']['Total SF'].describe()"
   ]
  },
  {
   "cell_type": "markdown",
   "metadata": {
    "id": "Iwjot7Op7Z96"
   },
   "source": [
    "Let's look more closely at the descriptions for minor removal projects."
   ]
  },
  {
   "cell_type": "code",
   "execution_count": 22,
   "metadata": {
    "colab": {
     "base_uri": "https://localhost:8080/",
     "height": 419
    },
    "id": "bbuJsJdb6mm4",
    "outputId": "9233803f-b5ab-433e-ed89-67c090e8ef64"
   },
   "outputs": [
    {
     "data": {
      "text/html": [
       "<div>\n",
       "<style scoped>\n",
       "    .dataframe tbody tr th:only-of-type {\n",
       "        vertical-align: middle;\n",
       "    }\n",
       "\n",
       "    .dataframe tbody tr th {\n",
       "        vertical-align: top;\n",
       "    }\n",
       "\n",
       "    .dataframe thead th {\n",
       "        text-align: right;\n",
       "    }\n",
       "</style>\n",
       "<table border=\"1\" class=\"dataframe\">\n",
       "  <thead>\n",
       "    <tr style=\"text-align: right;\">\n",
       "      <th></th>\n",
       "      <th>Project Type</th>\n",
       "      <th>Description</th>\n",
       "      <th>Total SF</th>\n",
       "    </tr>\n",
       "  </thead>\n",
       "  <tbody>\n",
       "    <tr>\n",
       "      <th>26</th>\n",
       "      <td>Minor Removal Project</td>\n",
       "      <td>HARTRANFT ES - REVISION - CHANGED REM 15 SF VA...</td>\n",
       "      <td>146</td>\n",
       "    </tr>\n",
       "    <tr>\n",
       "      <th>28</th>\n",
       "      <td>Minor Removal Project</td>\n",
       "      <td>ELKIN ES - REM 340 SF VAT IN RM 116, REM 100 S...</td>\n",
       "      <td>2225</td>\n",
       "    </tr>\n",
       "    <tr>\n",
       "      <th>72</th>\n",
       "      <td>Minor Removal Project</td>\n",
       "      <td>BLAINE ES - REM 120 SF OF VAT IN STAIR #2, 205...</td>\n",
       "      <td>815</td>\n",
       "    </tr>\n",
       "    <tr>\n",
       "      <th>79</th>\n",
       "      <td>Minor Removal Project</td>\n",
       "      <td>Alternative Education Program - REM 240 SF of ...</td>\n",
       "      <td>240</td>\n",
       "    </tr>\n",
       "    <tr>\n",
       "      <th>82</th>\n",
       "      <td>Minor Removal Project</td>\n",
       "      <td>LINGELBACH ES - REM 10 SF OF ACOUSTICAL CEILIN...</td>\n",
       "      <td>500</td>\n",
       "    </tr>\n",
       "    <tr>\n",
       "      <th>...</th>\n",
       "      <td>...</td>\n",
       "      <td>...</td>\n",
       "      <td>...</td>\n",
       "    </tr>\n",
       "    <tr>\n",
       "      <th>1682</th>\n",
       "      <td>Minor Removal Project</td>\n",
       "      <td>SPRUANCE ES - REM 288 SF VAT IN PRINCIPALS OFF...</td>\n",
       "      <td>442</td>\n",
       "    </tr>\n",
       "    <tr>\n",
       "      <th>1744</th>\n",
       "      <td>Minor Removal Project</td>\n",
       "      <td>DAY ES - REM 70 SF OF VAT, 3 LF ACPFI &amp; 10 LF ...</td>\n",
       "      <td>402</td>\n",
       "    </tr>\n",
       "    <tr>\n",
       "      <th>1757</th>\n",
       "      <td>Minor Removal Project</td>\n",
       "      <td>HILL FREEDMAN WORLD ACADEMY @ LEEDS MS - REM 1...</td>\n",
       "      <td>100</td>\n",
       "    </tr>\n",
       "    <tr>\n",
       "      <th>1761</th>\n",
       "      <td>Minor Removal Project</td>\n",
       "      <td>SPRUANCE ES - REM 45 SF OF TRANSITE STALLS IN ...</td>\n",
       "      <td>95</td>\n",
       "    </tr>\n",
       "    <tr>\n",
       "      <th>1781</th>\n",
       "      <td>Minor Removal Project</td>\n",
       "      <td>SAUL HS - REM 3 LF ACPIF IN CLASSROOM 21A, 1 L...</td>\n",
       "      <td>1170</td>\n",
       "    </tr>\n",
       "  </tbody>\n",
       "</table>\n",
       "<p>98 rows × 3 columns</p>\n",
       "</div>"
      ],
      "text/plain": [
       "               Project Type  \\\n",
       "26    Minor Removal Project   \n",
       "28    Minor Removal Project   \n",
       "72    Minor Removal Project   \n",
       "79    Minor Removal Project   \n",
       "82    Minor Removal Project   \n",
       "...                     ...   \n",
       "1682  Minor Removal Project   \n",
       "1744  Minor Removal Project   \n",
       "1757  Minor Removal Project   \n",
       "1761  Minor Removal Project   \n",
       "1781  Minor Removal Project   \n",
       "\n",
       "                                            Description  Total SF  \n",
       "26    HARTRANFT ES - REVISION - CHANGED REM 15 SF VA...       146  \n",
       "28    ELKIN ES - REM 340 SF VAT IN RM 116, REM 100 S...      2225  \n",
       "72    BLAINE ES - REM 120 SF OF VAT IN STAIR #2, 205...       815  \n",
       "79    Alternative Education Program - REM 240 SF of ...       240  \n",
       "82    LINGELBACH ES - REM 10 SF OF ACOUSTICAL CEILIN...       500  \n",
       "...                                                 ...       ...  \n",
       "1682  SPRUANCE ES - REM 288 SF VAT IN PRINCIPALS OFF...       442  \n",
       "1744  DAY ES - REM 70 SF OF VAT, 3 LF ACPFI & 10 LF ...       402  \n",
       "1757  HILL FREEDMAN WORLD ACADEMY @ LEEDS MS - REM 1...       100  \n",
       "1761  SPRUANCE ES - REM 45 SF OF TRANSITE STALLS IN ...        95  \n",
       "1781  SAUL HS - REM 3 LF ACPIF IN CLASSROOM 21A, 1 L...      1170  \n",
       "\n",
       "[98 rows x 3 columns]"
      ]
     },
     "execution_count": 22,
     "metadata": {},
     "output_type": "execute_result"
    }
   ],
   "source": [
    "df[(df['Project Type']=='Minor Removal Project') & (df['Total SF'] > 80)][['Project Type', 'Description', 'Total SF']]"
   ]
  },
  {
   "cell_type": "code",
   "execution_count": 23,
   "metadata": {
    "colab": {
     "base_uri": "https://localhost:8080/",
     "height": 54
    },
    "id": "o2-zmKmu7Ahu",
    "outputId": "baeaf93a-3b1e-4fb8-d858-68cb54e92f50"
   },
   "outputs": [
    {
     "data": {
      "text/plain": [
       "'ELKIN ES - REM 340 SF VAT IN RM 116, REM 100 SF VAT IN HALLWAY OUTSIDE RM 116, REM 1440 SF OV VAT IN ART ROOM, REM 295 SF VAT IN HALLWAY OUTSIDE ART ROOM & 50 SF VAT IN NURSES OFFICE.'"
      ]
     },
     "execution_count": 23,
     "metadata": {},
     "output_type": "execute_result"
    }
   ],
   "source": [
    "df[(df['Project Type']=='Minor Removal Project') & (df['Total SF'] > 80)][['Project Type', 'Description', 'Total SF']].loc[28]['Description']"
   ]
  },
  {
   "cell_type": "markdown",
   "metadata": {
    "id": "u8Hn5uA47xRq"
   },
   "source": [
    "This project is in the \"Minor Removal Project\" category but clearly covers more than 80 square feet. "
   ]
  },
  {
   "cell_type": "code",
   "execution_count": 24,
   "metadata": {
    "id": "0S3MO8ZdfjNw"
   },
   "outputs": [],
   "source": [
    "geocoded_addresses = pd.read_csv('data/geocoded_addresses.csv')"
   ]
  },
  {
   "cell_type": "code",
   "execution_count": 25,
   "metadata": {
    "id": "fTfSLPomhnJC"
   },
   "outputs": [],
   "source": [
    "schools = pd.read_csv('data/schools.csv')"
   ]
  },
  {
   "cell_type": "code",
   "execution_count": 26,
   "metadata": {
    "id": "4CYiMYgyfnkt"
   },
   "outputs": [],
   "source": [
    "schools = schools[['Publication Name', 'GPS Location', 'Street Address', 'Year Opened']]"
   ]
  },
  {
   "cell_type": "markdown",
   "metadata": {},
   "source": [
    "Add school location information and year opened to asbestos projects dataframe."
   ]
  },
  {
   "cell_type": "code",
   "execution_count": 27,
   "metadata": {
    "id": "2Pi0SnuIfuTE"
   },
   "outputs": [],
   "source": [
    "df_with_addresses = df.merge(schools, left_on='School Name', right_on='Publication Name', how='left')"
   ]
  },
  {
   "cell_type": "code",
   "execution_count": 28,
   "metadata": {
    "colab": {
     "base_uri": "https://localhost:8080/",
     "height": 625
    },
    "id": "7CbqyrITpKaw",
    "outputId": "7ddb0a4b-f5b2-4f57-a406-2a52f97b48f1"
   },
   "outputs": [
    {
     "data": {
      "text/html": [
       "<div>\n",
       "<style scoped>\n",
       "    .dataframe tbody tr th:only-of-type {\n",
       "        vertical-align: middle;\n",
       "    }\n",
       "\n",
       "    .dataframe tbody tr th {\n",
       "        vertical-align: top;\n",
       "    }\n",
       "\n",
       "    .dataframe thead th {\n",
       "        text-align: right;\n",
       "    }\n",
       "</style>\n",
       "<table border=\"1\" class=\"dataframe\">\n",
       "  <thead>\n",
       "    <tr style=\"text-align: right;\">\n",
       "      <th></th>\n",
       "      <th>Application Date</th>\n",
       "      <th>Planned Completion Date</th>\n",
       "      <th>Facility Name</th>\n",
       "      <th>Facility Owner</th>\n",
       "      <th>Operation Type</th>\n",
       "      <th>Permit Number</th>\n",
       "      <th>Project Type</th>\n",
       "      <th>School Address</th>\n",
       "      <th>School Level</th>\n",
       "      <th>School Name</th>\n",
       "      <th>...</th>\n",
       "      <th>URL</th>\n",
       "      <th>Description</th>\n",
       "      <th>Planned Start Date</th>\n",
       "      <th>Total LF</th>\n",
       "      <th>Total SF</th>\n",
       "      <th>Total CF</th>\n",
       "      <th>Publication Name</th>\n",
       "      <th>GPS Location</th>\n",
       "      <th>Street Address</th>\n",
       "      <th>Year Opened</th>\n",
       "    </tr>\n",
       "  </thead>\n",
       "  <tbody>\n",
       "    <tr>\n",
       "      <th>0</th>\n",
       "      <td>1/2/18</td>\n",
       "      <td>2/2/18</td>\n",
       "      <td>HOWE ACADEMICS PLUS ES</td>\n",
       "      <td>NaN</td>\n",
       "      <td>Renovation</td>\n",
       "      <td>AN18-000004</td>\n",
       "      <td>Small Removal Project</td>\n",
       "      <td>NaN</td>\n",
       "      <td>Elementary</td>\n",
       "      <td>Julia W. Howe School</td>\n",
       "      <td>...</td>\n",
       "      <td>https://www.citizenserve.com/Portal/PortalCont...</td>\n",
       "      <td>HOWE ACADEMICS PLUS ES - CAP 1 LF ACPI IN STOR...</td>\n",
       "      <td>1/3/18</td>\n",
       "      <td>4</td>\n",
       "      <td>6</td>\n",
       "      <td>0</td>\n",
       "      <td>Julia W. Howe School</td>\n",
       "      <td>40.04113187, -75.14211131</td>\n",
       "      <td>5800 N 13TH ST</td>\n",
       "      <td>1913.0</td>\n",
       "    </tr>\n",
       "    <tr>\n",
       "      <th>1</th>\n",
       "      <td>1/2/20</td>\n",
       "      <td>1/5/20</td>\n",
       "      <td>FURNESS HS</td>\n",
       "      <td>NaN</td>\n",
       "      <td>Renovation</td>\n",
       "      <td>AN20-000003</td>\n",
       "      <td>Minor Removal Project</td>\n",
       "      <td>NaN</td>\n",
       "      <td>High</td>\n",
       "      <td>Furness High School</td>\n",
       "      <td>...</td>\n",
       "      <td>https://www.citizenserve.com/Portal/PortalCont...</td>\n",
       "      <td>FURNESS HS - REM 15 LF ACPI IN 312.</td>\n",
       "      <td>1/3/20</td>\n",
       "      <td>15</td>\n",
       "      <td>0</td>\n",
       "      <td>0</td>\n",
       "      <td>Furness High School</td>\n",
       "      <td>39.923762, -75.150585</td>\n",
       "      <td>1900 S 3RD ST</td>\n",
       "      <td>1912.0</td>\n",
       "    </tr>\n",
       "    <tr>\n",
       "      <th>2</th>\n",
       "      <td>1/3/18</td>\n",
       "      <td>2/2/18</td>\n",
       "      <td>TM PEIRCE ES</td>\n",
       "      <td>NaN</td>\n",
       "      <td>Renovation</td>\n",
       "      <td>AN18-000008</td>\n",
       "      <td>Minor Removal Project</td>\n",
       "      <td>NaN</td>\n",
       "      <td>Elementary</td>\n",
       "      <td>Thomas M. Peirce School</td>\n",
       "      <td>...</td>\n",
       "      <td>https://www.citizenserve.com/Portal/PortalCont...</td>\n",
       "      <td>TM PEIRCE ES - CAP 1 LF ACPI IN MAIN GYM ADJAC...</td>\n",
       "      <td>1/4/18</td>\n",
       "      <td>24</td>\n",
       "      <td>0</td>\n",
       "      <td>0</td>\n",
       "      <td>Thomas M. Peirce School</td>\n",
       "      <td>39.998839, -75.168424</td>\n",
       "      <td>3300 HENRY AVE</td>\n",
       "      <td>1908.0</td>\n",
       "    </tr>\n",
       "    <tr>\n",
       "      <th>3</th>\n",
       "      <td>1/3/18</td>\n",
       "      <td>1/3/18</td>\n",
       "      <td>KENDERTON ES</td>\n",
       "      <td>NaN</td>\n",
       "      <td>Emergency Renovation</td>\n",
       "      <td>AN18-000009</td>\n",
       "      <td>Small Removal Project</td>\n",
       "      <td>NaN</td>\n",
       "      <td>Elementary/Middle</td>\n",
       "      <td>Kenderton Elementary School</td>\n",
       "      <td>...</td>\n",
       "      <td>https://www.citizenserve.com/Portal/PortalCont...</td>\n",
       "      <td>KENDERTON ES - REM 3 LF ACPI IN CAFETERIA ON L...</td>\n",
       "      <td>1/3/18</td>\n",
       "      <td>4</td>\n",
       "      <td>0</td>\n",
       "      <td>0</td>\n",
       "      <td>Kenderton Elementary School</td>\n",
       "      <td>40.004940, -75.154241</td>\n",
       "      <td>1500 W ONTARIO ST</td>\n",
       "      <td>2016.0</td>\n",
       "    </tr>\n",
       "    <tr>\n",
       "      <th>4</th>\n",
       "      <td>1/3/18</td>\n",
       "      <td>2/2/18</td>\n",
       "      <td>LINCOLN HS POOL &amp; FIELD HOUSES</td>\n",
       "      <td>NaN</td>\n",
       "      <td>Renovation</td>\n",
       "      <td>AN18-000015</td>\n",
       "      <td>Minor Removal Project</td>\n",
       "      <td>NaN</td>\n",
       "      <td>High</td>\n",
       "      <td>Abraham Lincoln High School</td>\n",
       "      <td>...</td>\n",
       "      <td>https://www.citizenserve.com/Portal/PortalCont...</td>\n",
       "      <td>LINCOLN HS FIELD HOUSE &amp; POOL HOUSE - REM &lt;1 L...</td>\n",
       "      <td>1/4/18</td>\n",
       "      <td>11</td>\n",
       "      <td>0</td>\n",
       "      <td>0</td>\n",
       "      <td>Abraham Lincoln High School</td>\n",
       "      <td>40.04310838, -75.04479221</td>\n",
       "      <td>3201 RYAN AVE</td>\n",
       "      <td>1950.0</td>\n",
       "    </tr>\n",
       "  </tbody>\n",
       "</table>\n",
       "<p>5 rows × 22 columns</p>\n",
       "</div>"
      ],
      "text/plain": [
       "  Application Date Planned Completion Date                   Facility Name  \\\n",
       "0           1/2/18                  2/2/18          HOWE ACADEMICS PLUS ES   \n",
       "1           1/2/20                  1/5/20                      FURNESS HS   \n",
       "2           1/3/18                  2/2/18                    TM PEIRCE ES   \n",
       "3           1/3/18                  1/3/18                    KENDERTON ES   \n",
       "4           1/3/18                  2/2/18  LINCOLN HS POOL & FIELD HOUSES   \n",
       "\n",
       "   Facility Owner        Operation Type Permit Number           Project Type  \\\n",
       "0             NaN            Renovation   AN18-000004  Small Removal Project   \n",
       "1             NaN            Renovation   AN20-000003  Minor Removal Project   \n",
       "2             NaN            Renovation   AN18-000008  Minor Removal Project   \n",
       "3             NaN  Emergency Renovation   AN18-000009  Small Removal Project   \n",
       "4             NaN            Renovation   AN18-000015  Minor Removal Project   \n",
       "\n",
       "   School Address       School Level                  School Name  ...  \\\n",
       "0             NaN         Elementary         Julia W. Howe School  ...   \n",
       "1             NaN               High          Furness High School  ...   \n",
       "2             NaN         Elementary      Thomas M. Peirce School  ...   \n",
       "3             NaN  Elementary/Middle  Kenderton Elementary School  ...   \n",
       "4             NaN               High  Abraham Lincoln High School  ...   \n",
       "\n",
       "                                                 URL  \\\n",
       "0  https://www.citizenserve.com/Portal/PortalCont...   \n",
       "1  https://www.citizenserve.com/Portal/PortalCont...   \n",
       "2  https://www.citizenserve.com/Portal/PortalCont...   \n",
       "3  https://www.citizenserve.com/Portal/PortalCont...   \n",
       "4  https://www.citizenserve.com/Portal/PortalCont...   \n",
       "\n",
       "                                         Description Planned Start Date  \\\n",
       "0  HOWE ACADEMICS PLUS ES - CAP 1 LF ACPI IN STOR...             1/3/18   \n",
       "1                FURNESS HS - REM 15 LF ACPI IN 312.             1/3/20   \n",
       "2  TM PEIRCE ES - CAP 1 LF ACPI IN MAIN GYM ADJAC...             1/4/18   \n",
       "3  KENDERTON ES - REM 3 LF ACPI IN CAFETERIA ON L...             1/3/18   \n",
       "4  LINCOLN HS FIELD HOUSE & POOL HOUSE - REM <1 L...             1/4/18   \n",
       "\n",
       "  Total LF Total SF  Total CF             Publication Name  \\\n",
       "0        4        6         0         Julia W. Howe School   \n",
       "1       15        0         0          Furness High School   \n",
       "2       24        0         0      Thomas M. Peirce School   \n",
       "3        4        0         0  Kenderton Elementary School   \n",
       "4       11        0         0  Abraham Lincoln High School   \n",
       "\n",
       "                GPS Location     Street Address Year Opened  \n",
       "0  40.04113187, -75.14211131     5800 N 13TH ST      1913.0  \n",
       "1      39.923762, -75.150585      1900 S 3RD ST      1912.0  \n",
       "2      39.998839, -75.168424     3300 HENRY AVE      1908.0  \n",
       "3      40.004940, -75.154241  1500 W ONTARIO ST      2016.0  \n",
       "4  40.04310838, -75.04479221      3201 RYAN AVE      1950.0  \n",
       "\n",
       "[5 rows x 22 columns]"
      ]
     },
     "execution_count": 28,
     "metadata": {},
     "output_type": "execute_result"
    }
   ],
   "source": [
    "df_with_addresses.head()"
   ]
  },
  {
   "cell_type": "markdown",
   "metadata": {},
   "source": [
    "There are some cases where the school name was not found in the schools CSV, so we don't have an address for those schools."
   ]
  },
  {
   "cell_type": "code",
   "execution_count": 29,
   "metadata": {
    "colab": {
     "base_uri": "https://localhost:8080/"
    },
    "id": "cb87zOtLjG5S",
    "outputId": "61489b4e-7668-4d34-aa9a-63ae4c4af8e6"
   },
   "outputs": [
    {
     "data": {
      "text/plain": [
       "array(['Anna B. Pratt School (Closed)', 'John L. Kinsey School (Closed)',\n",
       "       'Roberts Vaux School (Closed)',\n",
       "       'Communication Technology High School (Closed)',\n",
       "       'General David B.\\xa0Birney\\xa0Charter School',\n",
       "       'High School for Business & Technology (Closed)',\n",
       "       'General John F. Reynolds School (Closed)'], dtype=object)"
      ]
     },
     "execution_count": 29,
     "metadata": {},
     "output_type": "execute_result"
    }
   ],
   "source": [
    "df_with_addresses[df_with_addresses['Street Address'].isna()]['School Name'].unique()"
   ]
  },
  {
   "cell_type": "markdown",
   "metadata": {},
   "source": [
    "These are schools that are currently closed. Add their addresses and coordinates manually."
   ]
  },
  {
   "cell_type": "code",
   "execution_count": 30,
   "metadata": {
    "id": "oxS6fQRHmHJf"
   },
   "outputs": [],
   "source": [
    "\n",
    "manual_addresses = {'School Name': ['Anna B. Pratt School (Closed)', 'Roberts Vaux School (Closed)', 'John L. Kinsey School (Closed)',\n",
    "                                    'Communication Technology High School (Closed)', 'General David B.\\xa0Birney\\xa0Charter School', \n",
    "                                    'High School for Business & Technology (Closed)', 'General John F. Reynolds School (Closed)'],\n",
    "                    'Street Address': ['2200 N 22ND ST', '2300 W MASTER ST', '6501 LIMEKILN PIKE', '8110 LYONS AVE', '900 W LINDLEY AVE',\n",
    "                                       '540 N 13TH ST', '1429 N 24TH ST'],\n",
    "                    'GPS Location': [[39.989027,-75.16974],\n",
    "                                     [39.97633317966743, -75.1742140217961],\n",
    "                                     [40.053635,\t-75.152142],\n",
    "                                     [39.89885149816822, -75.24594565947879], \n",
    "                                     [40.02899190864331, -75.13856487296891], \n",
    "                                     [39.962982,\t-75.159876],\n",
    "                                     [39.977536,\t-75.174784]]}"
   ]
  },
  {
   "cell_type": "code",
   "execution_count": 31,
   "metadata": {
    "id": "gYGoSR7psEz2"
   },
   "outputs": [],
   "source": [
    "manual_addresses_df = pd.DataFrame.from_dict(manual_addresses)"
   ]
  },
  {
   "cell_type": "code",
   "execution_count": 32,
   "metadata": {
    "colab": {
     "base_uri": "https://localhost:8080/",
     "height": 266
    },
    "id": "yMU32rg7sXkm",
    "outputId": "86bb56a1-f4ad-48b4-a9e4-a2abf9b90c71"
   },
   "outputs": [
    {
     "data": {
      "text/html": [
       "<div>\n",
       "<style scoped>\n",
       "    .dataframe tbody tr th:only-of-type {\n",
       "        vertical-align: middle;\n",
       "    }\n",
       "\n",
       "    .dataframe tbody tr th {\n",
       "        vertical-align: top;\n",
       "    }\n",
       "\n",
       "    .dataframe thead th {\n",
       "        text-align: right;\n",
       "    }\n",
       "</style>\n",
       "<table border=\"1\" class=\"dataframe\">\n",
       "  <thead>\n",
       "    <tr style=\"text-align: right;\">\n",
       "      <th></th>\n",
       "      <th>School Name</th>\n",
       "      <th>Street Address</th>\n",
       "      <th>GPS Location</th>\n",
       "    </tr>\n",
       "  </thead>\n",
       "  <tbody>\n",
       "    <tr>\n",
       "      <th>0</th>\n",
       "      <td>Anna B. Pratt School (Closed)</td>\n",
       "      <td>2200 N 22ND ST</td>\n",
       "      <td>[39.989027, -75.16974]</td>\n",
       "    </tr>\n",
       "    <tr>\n",
       "      <th>1</th>\n",
       "      <td>Roberts Vaux School (Closed)</td>\n",
       "      <td>2300 W MASTER ST</td>\n",
       "      <td>[39.97633317966743, -75.1742140217961]</td>\n",
       "    </tr>\n",
       "    <tr>\n",
       "      <th>2</th>\n",
       "      <td>John L. Kinsey School (Closed)</td>\n",
       "      <td>6501 LIMEKILN PIKE</td>\n",
       "      <td>[40.053635, -75.152142]</td>\n",
       "    </tr>\n",
       "    <tr>\n",
       "      <th>3</th>\n",
       "      <td>Communication Technology High School (Closed)</td>\n",
       "      <td>8110 LYONS AVE</td>\n",
       "      <td>[39.89885149816822, -75.24594565947879]</td>\n",
       "    </tr>\n",
       "    <tr>\n",
       "      <th>4</th>\n",
       "      <td>General David B. Birney Charter School</td>\n",
       "      <td>900 W LINDLEY AVE</td>\n",
       "      <td>[40.02899190864331, -75.13856487296891]</td>\n",
       "    </tr>\n",
       "    <tr>\n",
       "      <th>5</th>\n",
       "      <td>High School for Business &amp; Technology (Closed)</td>\n",
       "      <td>540 N 13TH ST</td>\n",
       "      <td>[39.962982, -75.159876]</td>\n",
       "    </tr>\n",
       "    <tr>\n",
       "      <th>6</th>\n",
       "      <td>General John F. Reynolds School (Closed)</td>\n",
       "      <td>1429 N 24TH ST</td>\n",
       "      <td>[39.977536, -75.174784]</td>\n",
       "    </tr>\n",
       "  </tbody>\n",
       "</table>\n",
       "</div>"
      ],
      "text/plain": [
       "                                      School Name      Street Address  \\\n",
       "0                   Anna B. Pratt School (Closed)      2200 N 22ND ST   \n",
       "1                    Roberts Vaux School (Closed)    2300 W MASTER ST   \n",
       "2                  John L. Kinsey School (Closed)  6501 LIMEKILN PIKE   \n",
       "3   Communication Technology High School (Closed)      8110 LYONS AVE   \n",
       "4          General David B. Birney Charter School   900 W LINDLEY AVE   \n",
       "5  High School for Business & Technology (Closed)       540 N 13TH ST   \n",
       "6        General John F. Reynolds School (Closed)      1429 N 24TH ST   \n",
       "\n",
       "                              GPS Location  \n",
       "0                   [39.989027, -75.16974]  \n",
       "1   [39.97633317966743, -75.1742140217961]  \n",
       "2                  [40.053635, -75.152142]  \n",
       "3  [39.89885149816822, -75.24594565947879]  \n",
       "4  [40.02899190864331, -75.13856487296891]  \n",
       "5                  [39.962982, -75.159876]  \n",
       "6                  [39.977536, -75.174784]  "
      ]
     },
     "execution_count": 32,
     "metadata": {},
     "output_type": "execute_result"
    }
   ],
   "source": [
    "manual_addresses_df"
   ]
  },
  {
   "cell_type": "code",
   "execution_count": 33,
   "metadata": {
    "id": "IjNxauJptCix"
   },
   "outputs": [],
   "source": [
    "df_with_addresses_all = df_with_addresses.merge(manual_addresses_df, on='School Name', how='left')"
   ]
  },
  {
   "cell_type": "code",
   "execution_count": 34,
   "metadata": {
    "id": "99TPwt6fSUZQ"
   },
   "outputs": [],
   "source": [
    "df_with_addresses_all['GPS Location_coalesced'] = df_with_addresses_all['GPS Location_x'].combine_first(df_with_addresses_all['GPS Location_y'])"
   ]
  },
  {
   "cell_type": "markdown",
   "metadata": {},
   "source": [
    "Check to make sure we have GPS locations for all schools in the dataframe."
   ]
  },
  {
   "cell_type": "code",
   "execution_count": 35,
   "metadata": {
    "colab": {
     "base_uri": "https://localhost:8080/",
     "height": 147
    },
    "id": "kLni0LPKtLMf",
    "outputId": "4467b251-1d6b-4af1-93c1-1add99d209a7"
   },
   "outputs": [
    {
     "data": {
      "text/html": [
       "<div>\n",
       "<style scoped>\n",
       "    .dataframe tbody tr th:only-of-type {\n",
       "        vertical-align: middle;\n",
       "    }\n",
       "\n",
       "    .dataframe tbody tr th {\n",
       "        vertical-align: top;\n",
       "    }\n",
       "\n",
       "    .dataframe thead th {\n",
       "        text-align: right;\n",
       "    }\n",
       "</style>\n",
       "<table border=\"1\" class=\"dataframe\">\n",
       "  <thead>\n",
       "    <tr style=\"text-align: right;\">\n",
       "      <th></th>\n",
       "      <th>Application Date</th>\n",
       "      <th>Planned Completion Date</th>\n",
       "      <th>Facility Name</th>\n",
       "      <th>Facility Owner</th>\n",
       "      <th>Operation Type</th>\n",
       "      <th>Permit Number</th>\n",
       "      <th>Project Type</th>\n",
       "      <th>School Address</th>\n",
       "      <th>School Level</th>\n",
       "      <th>School Name</th>\n",
       "      <th>...</th>\n",
       "      <th>Total LF</th>\n",
       "      <th>Total SF</th>\n",
       "      <th>Total CF</th>\n",
       "      <th>Publication Name</th>\n",
       "      <th>GPS Location_x</th>\n",
       "      <th>Street Address_x</th>\n",
       "      <th>Year Opened</th>\n",
       "      <th>Street Address_y</th>\n",
       "      <th>GPS Location_y</th>\n",
       "      <th>GPS Location_coalesced</th>\n",
       "    </tr>\n",
       "  </thead>\n",
       "  <tbody>\n",
       "  </tbody>\n",
       "</table>\n",
       "<p>0 rows × 25 columns</p>\n",
       "</div>"
      ],
      "text/plain": [
       "Empty DataFrame\n",
       "Columns: [Application Date, Planned Completion Date, Facility Name, Facility Owner, Operation Type, Permit Number, Project Type, School Address, School Level, School Name, School Website, Status, URL, Description, Planned Start Date, Total LF, Total SF, Total CF, Publication Name, GPS Location_x, Street Address_x, Year Opened, Street Address_y, GPS Location_y, GPS Location_coalesced]\n",
       "Index: []\n",
       "\n",
       "[0 rows x 25 columns]"
      ]
     },
     "execution_count": 35,
     "metadata": {},
     "output_type": "execute_result"
    }
   ],
   "source": [
    "df_with_addresses_all[df_with_addresses_all['GPS Location_coalesced'].isna()]"
   ]
  },
  {
   "cell_type": "markdown",
   "metadata": {},
   "source": [
    "Break out latitude and longitude into their own columns."
   ]
  },
  {
   "cell_type": "code",
   "execution_count": 36,
   "metadata": {
    "id": "plkxdo6PtMYE"
   },
   "outputs": [],
   "source": [
    "def get_lat_long_columns(gps_location_column):\n",
    "  if isinstance(gps_location_column, str):\n",
    "    gps_location_column = gps_location_column.split(', ')\n",
    "  return float(gps_location_column[0]), float(gps_location_column[1])\n",
    "\n",
    "df_with_addresses_all['lat'], df_with_addresses_all['long'] = zip(*df_with_addresses_all['GPS Location_coalesced'].map(get_lat_long_columns))"
   ]
  },
  {
   "cell_type": "code",
   "execution_count": 37,
   "metadata": {
    "colab": {
     "base_uri": "https://localhost:8080/"
    },
    "id": "ipY1AQE4W1AZ",
    "outputId": "66a4ed43-e7fb-4062-9533-308f32f56313"
   },
   "outputs": [
    {
     "data": {
      "text/plain": [
       "School Name                                          lat        long      \n",
       "A. Philip Randolph Career and Technical High School  40.008504  -75.179609     1\n",
       "A.L. Fitzpatrick School                              40.080306  -74.976529    12\n",
       "Abraham Lincoln High School                          40.043108  -75.044792     6\n",
       "Abram S. Jenks School                                39.918773  -75.168367    11\n",
       "Academy at Palumbo                                   39.940198  -75.161949    11\n",
       "                                                                              ..\n",
       "William McKinley School                              39.982769  -75.141655     3\n",
       "William Rowen School                                 40.059307  -75.148647    13\n",
       "William T. Tilden School                             39.920936  -75.232276     5\n",
       "William W. Bodine High School                        39.967930  -75.143434    15\n",
       "Woodrow Wilson School                                40.052367  -75.069086    11\n",
       "Length: 214, dtype: int64"
      ]
     },
     "execution_count": 37,
     "metadata": {},
     "output_type": "execute_result"
    }
   ],
   "source": [
    "# Count of projects per school\n",
    "df_with_addresses_all.groupby(['School Name', 'lat', 'long']).size()"
   ]
  },
  {
   "cell_type": "code",
   "execution_count": 38,
   "metadata": {
    "colab": {
     "base_uri": "https://localhost:8080/"
    },
    "id": "rMmSOG2iVX0O",
    "outputId": "145acf3a-e519-416e-f23b-b96772bb3d23"
   },
   "outputs": [
    {
     "data": {
      "text/plain": [
       "School Name                                          lat        long        Project Type              \n",
       "A. Philip Randolph Career and Technical High School  40.008504  -75.179609  Non Friable Removal           1\n",
       "A.L. Fitzpatrick School                              40.080306  -74.976529  Incidental Removal Project    4\n",
       "                                                                            Major Removal Project         1\n",
       "                                                                            Minor Removal Project         4\n",
       "                                                                            Non Friable Removal           3\n",
       "                                                                                                         ..\n",
       "William W. Bodine High School                        39.967930  -75.143434  Small Removal Project         1\n",
       "Woodrow Wilson School                                40.052367  -75.069086  Incidental Removal Project    2\n",
       "                                                                            Major Removal Project         1\n",
       "                                                                            Minor Removal Project         7\n",
       "                                                                            Non Friable Removal           1\n",
       "Length: 663, dtype: int64"
      ]
     },
     "execution_count": 38,
     "metadata": {},
     "output_type": "execute_result"
    }
   ],
   "source": [
    "# Count of projects by type per school\n",
    "df_with_addresses_all.groupby(['School Name', 'lat', 'long', 'Project Type']).size()"
   ]
  },
  {
   "cell_type": "code",
   "execution_count": 39,
   "metadata": {
    "colab": {
     "base_uri": "https://localhost:8080/"
    },
    "id": "YeDHmbYRWFtT",
    "outputId": "fa466f3b-fb52-413d-889e-f712ce9ba4de"
   },
   "outputs": [
    {
     "data": {
      "text/plain": [
       "School Name                                          lat        long      \n",
       "A. Philip Randolph Career and Technical High School  40.008504  -75.179609      0\n",
       "A.L. Fitzpatrick School                              40.080306  -74.976529    121\n",
       "Abraham Lincoln High School                          40.043108  -75.044792     41\n",
       "Abram S. Jenks School                                39.918773  -75.168367    159\n",
       "Academy at Palumbo                                   39.940198  -75.161949    124\n",
       "                                                                             ... \n",
       "William McKinley School                              39.982769  -75.141655      0\n",
       "William Rowen School                                 40.059307  -75.148647    861\n",
       "William T. Tilden School                             39.920936  -75.232276    312\n",
       "William W. Bodine High School                        39.967930  -75.143434     96\n",
       "Woodrow Wilson School                                40.052367  -75.069086     60\n",
       "Name: Total LF, Length: 214, dtype: int64"
      ]
     },
     "execution_count": 39,
     "metadata": {},
     "output_type": "execute_result"
    }
   ],
   "source": [
    "# Total linear footage of projects per school\n",
    "df_with_addresses_all.groupby(['School Name', 'lat', 'long'])['Total LF'].sum()"
   ]
  },
  {
   "cell_type": "code",
   "execution_count": 40,
   "metadata": {
    "colab": {
     "base_uri": "https://localhost:8080/"
    },
    "id": "0k827lIhWkZ2",
    "outputId": "1d6c170e-f118-41e9-8f60-5aea037b3be4"
   },
   "outputs": [
    {
     "data": {
      "text/plain": [
       "School Name                                          lat        long      \n",
       "A. Philip Randolph Career and Technical High School  40.008504  -75.179609     250\n",
       "A.L. Fitzpatrick School                              40.080306  -74.976529     725\n",
       "Abraham Lincoln High School                          40.043108  -75.044792       0\n",
       "Abram S. Jenks School                                39.918773  -75.168367      57\n",
       "Academy at Palumbo                                   39.940198  -75.161949    1564\n",
       "                                                                              ... \n",
       "William McKinley School                              39.982769  -75.141655       0\n",
       "William Rowen School                                 40.059307  -75.148647     528\n",
       "William T. Tilden School                             39.920936  -75.232276       0\n",
       "William W. Bodine High School                        39.967930  -75.143434    1751\n",
       "Woodrow Wilson School                                40.052367  -75.069086     191\n",
       "Name: Total SF, Length: 214, dtype: int64"
      ]
     },
     "execution_count": 40,
     "metadata": {},
     "output_type": "execute_result"
    }
   ],
   "source": [
    "# Total square footage of projects per school\n",
    "df_with_addresses_all.groupby(['School Name', 'lat', 'long'])['Total SF'].sum()"
   ]
  },
  {
   "cell_type": "markdown",
   "metadata": {},
   "source": [
    "Add in information about 2021 - 2022 school year budgets."
   ]
  },
  {
   "cell_type": "code",
   "execution_count": 41,
   "metadata": {
    "id": "HhP7Gh4Ci-nT"
   },
   "outputs": [],
   "source": [
    "district_school_budgets = pd.read_csv('data/district_school_budgets.csv')"
   ]
  },
  {
   "cell_type": "code",
   "execution_count": 42,
   "metadata": {
    "id": "cYLKG_0tjn7b"
   },
   "outputs": [],
   "source": [
    "budget_rows = district_school_budgets.values\n",
    "budget_df = pd.DataFrame.from_records(budget_rows[1:], columns=['School Name', 'Organization Code', 'Economically Disadvantaged Percentage', 'Enrollment (FY 22 Projected)', 'FY 22 Budget (Total Positions)', 'FY 22 Budget (Contracts, etc.)'])"
   ]
  },
  {
   "cell_type": "code",
   "execution_count": 43,
   "metadata": {
    "colab": {
     "base_uri": "https://localhost:8080/",
     "height": 282
    },
    "id": "qxlC9OoIjqOi",
    "outputId": "dc24547e-3c25-444f-b8b1-05165b33cb49"
   },
   "outputs": [
    {
     "data": {
      "text/html": [
       "<div>\n",
       "<style scoped>\n",
       "    .dataframe tbody tr th:only-of-type {\n",
       "        vertical-align: middle;\n",
       "    }\n",
       "\n",
       "    .dataframe tbody tr th {\n",
       "        vertical-align: top;\n",
       "    }\n",
       "\n",
       "    .dataframe thead th {\n",
       "        text-align: right;\n",
       "    }\n",
       "</style>\n",
       "<table border=\"1\" class=\"dataframe\">\n",
       "  <thead>\n",
       "    <tr style=\"text-align: right;\">\n",
       "      <th></th>\n",
       "      <th>School Name</th>\n",
       "      <th>Organization Code</th>\n",
       "      <th>Economically Disadvantaged Percentage</th>\n",
       "      <th>Enrollment (FY 22 Projected)</th>\n",
       "      <th>FY 22 Budget (Total Positions)</th>\n",
       "      <th>FY 22 Budget (Contracts, etc.)</th>\n",
       "    </tr>\n",
       "  </thead>\n",
       "  <tbody>\n",
       "    <tr>\n",
       "      <th>0</th>\n",
       "      <td>A.L. Fitzpatrick School</td>\n",
       "      <td>8390.0</td>\n",
       "      <td>60.42</td>\n",
       "      <td>759.0</td>\n",
       "      <td>7448260.0</td>\n",
       "      <td>195924.0</td>\n",
       "    </tr>\n",
       "    <tr>\n",
       "      <th>1</th>\n",
       "      <td>Abraham Lincoln High School</td>\n",
       "      <td>8010.0</td>\n",
       "      <td>67.82</td>\n",
       "      <td>1996.0</td>\n",
       "      <td>23048260.0</td>\n",
       "      <td>292120.0</td>\n",
       "    </tr>\n",
       "    <tr>\n",
       "      <th>2</th>\n",
       "      <td>Abram S. Jenks School</td>\n",
       "      <td>2520.0</td>\n",
       "      <td>71.03</td>\n",
       "      <td>288.0</td>\n",
       "      <td>3484980.0</td>\n",
       "      <td>53305.0</td>\n",
       "    </tr>\n",
       "    <tr>\n",
       "      <th>3</th>\n",
       "      <td>Academy at Palumbo</td>\n",
       "      <td>2620.0</td>\n",
       "      <td>52.83</td>\n",
       "      <td>1115.0</td>\n",
       "      <td>7860860.0</td>\n",
       "      <td>297961.0</td>\n",
       "    </tr>\n",
       "    <tr>\n",
       "      <th>4</th>\n",
       "      <td>Academy for the Middle Years at Northwest</td>\n",
       "      <td>6480.0</td>\n",
       "      <td>71.01</td>\n",
       "      <td>280.0</td>\n",
       "      <td>3093600.0</td>\n",
       "      <td>124943.0</td>\n",
       "    </tr>\n",
       "  </tbody>\n",
       "</table>\n",
       "</div>"
      ],
      "text/plain": [
       "                                 School Name  Organization Code  \\\n",
       "0                    A.L. Fitzpatrick School             8390.0   \n",
       "1                Abraham Lincoln High School             8010.0   \n",
       "2                      Abram S. Jenks School             2520.0   \n",
       "3                         Academy at Palumbo             2620.0   \n",
       "4  Academy for the Middle Years at Northwest             6480.0   \n",
       "\n",
       "   Economically Disadvantaged Percentage  Enrollment (FY 22 Projected)  \\\n",
       "0                                  60.42                         759.0   \n",
       "1                                  67.82                        1996.0   \n",
       "2                                  71.03                         288.0   \n",
       "3                                  52.83                        1115.0   \n",
       "4                                  71.01                         280.0   \n",
       "\n",
       "   FY 22 Budget (Total Positions)  FY 22 Budget (Contracts, etc.)  \n",
       "0                       7448260.0                        195924.0  \n",
       "1                      23048260.0                        292120.0  \n",
       "2                       3484980.0                         53305.0  \n",
       "3                       7860860.0                        297961.0  \n",
       "4                       3093600.0                        124943.0  "
      ]
     },
     "execution_count": 43,
     "metadata": {},
     "output_type": "execute_result"
    }
   ],
   "source": [
    "budget_df.head()"
   ]
  },
  {
   "cell_type": "code",
   "execution_count": 44,
   "metadata": {
    "id": "_CZsyZPckGRS"
   },
   "outputs": [],
   "source": [
    "df_with_addresses_all_budget = df_with_addresses_all.merge(budget_df, on='School Name', how='left')"
   ]
  },
  {
   "cell_type": "code",
   "execution_count": 45,
   "metadata": {
    "id": "jr3nLopblgPs"
   },
   "outputs": [],
   "source": [
    "import numpy as np\n",
    "df_with_addresses_all_budget = df_with_addresses_all_budget.replace(r'^\\s*$', np.nan, regex=True)"
   ]
  },
  {
   "cell_type": "markdown",
   "metadata": {},
   "source": [
    "Add a column dividing total positions by projected enrollment to get rough budgeted amount per student."
   ]
  },
  {
   "cell_type": "code",
   "execution_count": 46,
   "metadata": {
    "id": "-WqybxW6lMxg"
   },
   "outputs": [],
   "source": [
    "df_with_addresses_all_budget['FY 22 Budget (Total Positions) Per Proj Enrolled Student'] = df_with_addresses_all_budget['FY 22 Budget (Total Positions)'].map(lambda x: float(x) if not isinstance(x, type(None)) else 0) / df_with_addresses_all_budget['Enrollment (FY 22 Projected)'].map(lambda x: float(x) if not isinstance(x, type(None)) else 0)"
   ]
  },
  {
   "cell_type": "code",
   "execution_count": 47,
   "metadata": {
    "colab": {
     "base_uri": "https://localhost:8080/"
    },
    "id": "Rwu8D2XQkoNx",
    "outputId": "230ab6e0-4bad-49b9-ec33-fdf528d59a6a"
   },
   "outputs": [
    {
     "data": {
      "text/plain": [
       "School Name                                Economically Disadvantaged Percentage  FY 22 Budget (Total Positions) Per Proj Enrolled Student  Year Opened  lat        long      \n",
       "A.L. Fitzpatrick School                    60.42                                  9813.254282                                               1960.0       40.080306  -74.976529    12\n",
       "Abraham Lincoln High School                67.82                                  11547.224449                                              1950.0       40.043108  -75.044792     6\n",
       "Abram S. Jenks School                      71.03                                  12100.625000                                              1897.0       39.918773  -75.168367    11\n",
       "Academy at Palumbo                         52.83                                  7050.098655                                               2006.0       39.940198  -75.161949    11\n",
       "Academy for the Middle Years at Northwest  71.01                                  11048.571429                                              2012.0       40.031545  -75.213176     6\n",
       "                                                                                                                                                                                  ..\n",
       "William McKinley School                    91.00                                  13778.522167                                              1970.0       39.982769  -75.141655     3\n",
       "William Rowen School                       84.21                                  11554.366197                                              1938.0       40.059307  -75.148647    13\n",
       "William T. Tilden School                   82.50                                  14433.041096                                              1927.0       39.920936  -75.232276     5\n",
       "William W. Bodine High School              63.39                                  8193.480475                                               1935.0       39.967930  -75.143434    15\n",
       "Woodrow Wilson School                      66.87                                  10335.726744                                              1928.0       40.052367  -75.069086    11\n",
       "Length: 186, dtype: int64"
      ]
     },
     "execution_count": 47,
     "metadata": {},
     "output_type": "execute_result"
    }
   ],
   "source": [
    "# Count of projects per school with EDP and Budget per student\n",
    "df_with_addresses_all_budget.groupby(['School Name', 'Economically Disadvantaged Percentage', 'FY 22 Budget (Total Positions) Per Proj Enrolled Student', 'Year Opened', 'lat', 'long']).size()"
   ]
  },
  {
   "cell_type": "code",
   "execution_count": 48,
   "metadata": {
    "colab": {
     "base_uri": "https://localhost:8080/"
    },
    "id": "qGxYLhDCk4oQ",
    "outputId": "fc674371-63fc-48be-91aa-b97df13b2244"
   },
   "outputs": [
    {
     "data": {
      "text/plain": [
       "School Name                    Economically Disadvantaged Percentage  FY 22 Budget (Total Positions) Per Proj Enrolled Student  Year Opened  lat        long        Project Type              \n",
       "A.L. Fitzpatrick School        60.42                                  9813.254282                                               1960.0       40.080306  -74.976529  Incidental Removal Project    4\n",
       "                                                                                                                                                                    Major Removal Project         1\n",
       "                                                                                                                                                                    Minor Removal Project         4\n",
       "                                                                                                                                                                    Non Friable Removal           3\n",
       "Abraham Lincoln High School    67.82                                  11547.224449                                              1950.0       40.043108  -75.044792  Incidental Removal Project    1\n",
       "                                                                                                                                                                                                 ..\n",
       "William W. Bodine High School  63.39                                  8193.480475                                               1935.0       39.967930  -75.143434  Small Removal Project         1\n",
       "Woodrow Wilson School          66.87                                  10335.726744                                              1928.0       40.052367  -75.069086  Incidental Removal Project    2\n",
       "                                                                                                                                                                    Major Removal Project         1\n",
       "                                                                                                                                                                    Minor Removal Project         7\n",
       "                                                                                                                                                                    Non Friable Removal           1\n",
       "Length: 621, dtype: int64"
      ]
     },
     "execution_count": 48,
     "metadata": {},
     "output_type": "execute_result"
    }
   ],
   "source": [
    "# Count of projects by type per school with EDP and Budget per student\n",
    "df_with_addresses_all_budget.groupby(['School Name', 'Economically Disadvantaged Percentage', 'FY 22 Budget (Total Positions) Per Proj Enrolled Student', 'Year Opened', 'lat', 'long', 'Project Type']).size()"
   ]
  },
  {
   "cell_type": "code",
   "execution_count": 49,
   "metadata": {
    "colab": {
     "base_uri": "https://localhost:8080/"
    },
    "id": "XTMtXEZqoYK4",
    "outputId": "ee966017-0c39-40ad-f225-07af836a22fa"
   },
   "outputs": [
    {
     "data": {
      "text/plain": [
       "School Name                                Economically Disadvantaged Percentage  FY 22 Budget (Total Positions) Per Proj Enrolled Student  Year Opened  lat        long      \n",
       "A.L. Fitzpatrick School                    60.42                                  9813.254282                                               1960.0       40.080306  -74.976529    121\n",
       "Abraham Lincoln High School                67.82                                  11547.224449                                              1950.0       40.043108  -75.044792     41\n",
       "Abram S. Jenks School                      71.03                                  12100.625000                                              1897.0       39.918773  -75.168367    159\n",
       "Academy at Palumbo                         52.83                                  7050.098655                                               2006.0       39.940198  -75.161949    124\n",
       "Academy for the Middle Years at Northwest  71.01                                  11048.571429                                              2012.0       40.031545  -75.213176    190\n",
       "                                                                                                                                                                                 ... \n",
       "William McKinley School                    91.00                                  13778.522167                                              1970.0       39.982769  -75.141655      0\n",
       "William Rowen School                       84.21                                  11554.366197                                              1938.0       40.059307  -75.148647    861\n",
       "William T. Tilden School                   82.50                                  14433.041096                                              1927.0       39.920936  -75.232276    312\n",
       "William W. Bodine High School              63.39                                  8193.480475                                               1935.0       39.967930  -75.143434     96\n",
       "Woodrow Wilson School                      66.87                                  10335.726744                                              1928.0       40.052367  -75.069086     60\n",
       "Name: Total LF, Length: 186, dtype: int64"
      ]
     },
     "execution_count": 49,
     "metadata": {},
     "output_type": "execute_result"
    }
   ],
   "source": [
    "# Total linear footage of projects per school with EDP and Budget per student\n",
    "df_with_addresses_all_budget.groupby(['School Name', 'Economically Disadvantaged Percentage', 'FY 22 Budget (Total Positions) Per Proj Enrolled Student', 'Year Opened','lat', 'long'])['Total LF'].sum()"
   ]
  },
  {
   "cell_type": "code",
   "execution_count": 50,
   "metadata": {
    "colab": {
     "base_uri": "https://localhost:8080/"
    },
    "id": "d7KIUmXPYrjS",
    "outputId": "dfa80e80-157e-4274-9efd-9d7c1f8e61ed"
   },
   "outputs": [
    {
     "data": {
      "text/plain": [
       "School Name                                Economically Disadvantaged Percentage  FY 22 Budget (Total Positions) Per Proj Enrolled Student  Year Opened  lat        long      \n",
       "A.L. Fitzpatrick School                    60.42                                  9813.254282                                               1960.0       40.080306  -74.976529    121\n",
       "Abraham Lincoln High School                67.82                                  11547.224449                                              1950.0       40.043108  -75.044792     41\n",
       "Abram S. Jenks School                      71.03                                  12100.625000                                              1897.0       39.918773  -75.168367    159\n",
       "Academy at Palumbo                         52.83                                  7050.098655                                               2006.0       39.940198  -75.161949    124\n",
       "Academy for the Middle Years at Northwest  71.01                                  11048.571429                                              2012.0       40.031545  -75.213176    190\n",
       "                                                                                                                                                                                 ... \n",
       "William McKinley School                    91.00                                  13778.522167                                              1970.0       39.982769  -75.141655      0\n",
       "William Rowen School                       84.21                                  11554.366197                                              1938.0       40.059307  -75.148647    861\n",
       "William T. Tilden School                   82.50                                  14433.041096                                              1927.0       39.920936  -75.232276    312\n",
       "William W. Bodine High School              63.39                                  8193.480475                                               1935.0       39.967930  -75.143434     96\n",
       "Woodrow Wilson School                      66.87                                  10335.726744                                              1928.0       40.052367  -75.069086     60\n",
       "Name: Total LF, Length: 186, dtype: int64"
      ]
     },
     "execution_count": 50,
     "metadata": {},
     "output_type": "execute_result"
    }
   ],
   "source": [
    "df_with_addresses_all_budget.groupby(['School Name', 'Economically Disadvantaged Percentage', 'FY 22 Budget (Total Positions) Per Proj Enrolled Student', 'Year Opened','lat', 'long'])['Total LF'].sum()"
   ]
  },
  {
   "cell_type": "code",
   "execution_count": 51,
   "metadata": {
    "id": "UA9tQ6yATcG2"
   },
   "outputs": [],
   "source": [
    "df_with_addresses_all_budget.groupby(['School Name', 'Economically Disadvantaged Percentage', 'FY 22 Budget (Total Positions) Per Proj Enrolled Student', 'Year Opened','lat', 'long'])['Total LF'].sum().to_csv('asbestos_lf_per_school.csv')"
   ]
  },
  {
   "cell_type": "code",
   "execution_count": 52,
   "metadata": {
    "colab": {
     "base_uri": "https://localhost:8080/"
    },
    "id": "PR7tssFuot8r",
    "outputId": "7a03133c-2130-4212-fdc7-62a5f6e40d38"
   },
   "outputs": [
    {
     "data": {
      "text/plain": [
       "School Name                                Economically Disadvantaged Percentage  FY 22 Budget (Total Positions) Per Proj Enrolled Student  Year Opened  lat        long      \n",
       "A.L. Fitzpatrick School                    60.42                                  9813.254282                                               1960.0       40.080306  -74.976529     725\n",
       "Abraham Lincoln High School                67.82                                  11547.224449                                              1950.0       40.043108  -75.044792       0\n",
       "Abram S. Jenks School                      71.03                                  12100.625000                                              1897.0       39.918773  -75.168367      57\n",
       "Academy at Palumbo                         52.83                                  7050.098655                                               2006.0       39.940198  -75.161949    1564\n",
       "Academy for the Middle Years at Northwest  71.01                                  11048.571429                                              2012.0       40.031545  -75.213176       8\n",
       "                                                                                                                                                                                  ... \n",
       "William McKinley School                    91.00                                  13778.522167                                              1970.0       39.982769  -75.141655       0\n",
       "William Rowen School                       84.21                                  11554.366197                                              1938.0       40.059307  -75.148647     528\n",
       "William T. Tilden School                   82.50                                  14433.041096                                              1927.0       39.920936  -75.232276       0\n",
       "William W. Bodine High School              63.39                                  8193.480475                                               1935.0       39.967930  -75.143434    1751\n",
       "Woodrow Wilson School                      66.87                                  10335.726744                                              1928.0       40.052367  -75.069086     191\n",
       "Name: Total SF, Length: 186, dtype: int64"
      ]
     },
     "execution_count": 52,
     "metadata": {},
     "output_type": "execute_result"
    }
   ],
   "source": [
    "# Total square footage of projects per school with EDP and Budget per student\n",
    "df_with_addresses_all_budget.groupby(['School Name', 'Economically Disadvantaged Percentage', 'FY 22 Budget (Total Positions) Per Proj Enrolled Student', 'Year Opened', 'lat', 'long'])['Total SF'].sum()"
   ]
  },
  {
   "cell_type": "code",
   "execution_count": 53,
   "metadata": {
    "id": "7gkfmmPubL6m"
   },
   "outputs": [],
   "source": [
    "df_with_addresses_all_budget.groupby(['School Name', 'Economically Disadvantaged Percentage', 'FY 22 Budget (Total Positions) Per Proj Enrolled Student', 'Year Opened', 'lat', 'long'])['Total SF'].sum().to_csv('asbestos_sf_per_school.csv')"
   ]
  }
 ],
 "metadata": {
  "colab": {
   "name": "Asbestos Abatement in Philadelphia Schools.ipynb",
   "provenance": []
  },
  "kernelspec": {
   "display_name": "Python 3 (ipykernel)",
   "language": "python",
   "name": "python3"
  },
  "language_info": {
   "codemirror_mode": {
    "name": "ipython",
    "version": 3
   },
   "file_extension": ".py",
   "mimetype": "text/x-python",
   "name": "python",
   "nbconvert_exporter": "python",
   "pygments_lexer": "ipython3",
   "version": "3.9.9"
  }
 },
 "nbformat": 4,
 "nbformat_minor": 1
}
